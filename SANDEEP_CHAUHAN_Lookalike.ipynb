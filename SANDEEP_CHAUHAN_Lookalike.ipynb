{
 "cells": [
  {
   "cell_type": "code",
   "execution_count": 1,
   "id": "1651a1aa",
   "metadata": {},
   "outputs": [
    {
     "name": "stdout",
     "output_type": "stream",
     "text": [
      "Lookalike Model generated and saved to Lookalike.csv\n"
     ]
    }
   ],
   "source": [
    "import pandas as pd\n",
    "from sklearn.metrics.pairwise import cosine_similarity\n",
    "\n",
    "# Load data (replace with actual file paths)\n",
    "customers_df = pd.read_csv(\"Customers.csv\")\n",
    "products_df = pd.read_csv(\"Products.csv\")\n",
    "transactions_df = pd.read_csv(\"Transactions.csv\")\n",
    "\n",
    "# Data preprocessing (example - adjust based on your data)\n",
    "customers_df['SignupDate'] = pd.to_datetime(customers_df['SignupDate'])\n",
    "customers_df['CustomerTenure'] = (pd.to_datetime('today') - customers_df['SignupDate']).dt.days\n",
    "\n",
    "# Feature engineering (example - adjust based on your data)\n",
    "customer_features = customers_df[['CustomerID', 'Region', 'CustomerTenure']]\n",
    "product_features = products_df[['ProductID', 'Category']] \n",
    "\n",
    "# Create customer-product interaction matrix\n",
    "customer_product_matrix = pd.pivot_table(\n",
    "    transactions_df, \n",
    "    index='CustomerID', \n",
    "    columns='ProductID', \n",
    "    values='Quantity', \n",
    "    fill_value=0\n",
    ")\n",
    "# Calculate cosine similarity (adjust based on your needs)\n",
    "customer_similarities = cosine_similarity(customer_product_matrix)\n",
    "\n",
    "# Find top-3 lookalikes for each customer\n",
    "lookalike_df = pd.DataFrame(columns=['CustomerID', 'Lookalike1', 'Lookalike1_Score', \n",
    "                                   'Lookalike2', 'Lookalike2_Score', 'Lookalike3', 'Lookalike3_Score'])\n",
    "\n",
    "# Ensure consistent data types\n",
    "customers_df['CustomerID'] = customers_df['CustomerID'].astype(str)\n",
    "customer_product_matrix.index = customer_product_matrix.index.astype(str)\n",
    "\n",
    "# Initialize results\n",
    "results = []\n",
    "\n",
    "for customer_id in customers_df['CustomerID'][:20]:\n",
    "    if customer_id not in customer_product_matrix.index:\n",
    "        print(f\"CustomerID {customer_id} not found in customer_product_matrix. Skipping...\")\n",
    "        continue  # Skip if not found\n",
    "    \n",
    "    customer_index = customer_product_matrix.index.get_loc(customer_id)\n",
    "    similarity_scores = customer_similarities[customer_index]\n",
    "    top_k_indices = similarity_scores.argsort()[-4:-1][::-1]\n",
    "    top_k_ids = customer_product_matrix.index[top_k_indices]\n",
    "    top_k_scores = similarity_scores[top_k_indices]\n",
    "\n",
    "    results.append({\n",
    "        'CustomerID': customer_id,\n",
    "        'Lookalike1': top_k_ids[0],\n",
    "        'Lookalike1_Score': top_k_scores[0],\n",
    "        'Lookalike2': top_k_ids[1],\n",
    "        'Lookalike2_Score': top_k_scores[1],\n",
    "        'Lookalike3': top_k_ids[2],\n",
    "        'Lookalike3_Score': top_k_scores[2],\n",
    "    })\n",
    "\n",
    "lookalike_df = pd.DataFrame(results)\n",
    "\n",
    "# Save results\n",
    "lookalike_df.to_csv(\"Lookalike.csv\", index=False)\n",
    "print(\"Lookalike Model generated and saved to Lookalike.csv\")"
   ]
  },
  {
   "cell_type": "code",
   "execution_count": null,
   "id": "22157c63",
   "metadata": {},
   "outputs": [],
   "source": []
  }
 ],
 "metadata": {
  "kernelspec": {
   "display_name": "Python 3 (ipykernel)",
   "language": "python",
   "name": "python3"
  },
  "language_info": {
   "codemirror_mode": {
    "name": "ipython",
    "version": 3
   },
   "file_extension": ".py",
   "mimetype": "text/x-python",
   "name": "python",
   "nbconvert_exporter": "python",
   "pygments_lexer": "ipython3",
   "version": "3.9.12"
  }
 },
 "nbformat": 4,
 "nbformat_minor": 5
}
